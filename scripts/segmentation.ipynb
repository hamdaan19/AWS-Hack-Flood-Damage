{
 "cells": [
  {
   "cell_type": "code",
   "execution_count": 6,
   "id": "4296356c-8099-4e68-ae62-7e2943e2bc6b",
   "metadata": {},
   "outputs": [],
   "source": [
    "import keras.applications.vgg16"
   ]
  }
 ],
 "metadata": {
  "kernelspec": {
   "display_name": "default:Python",
   "language": "python",
   "name": "conda-env-default-py"
  },
  "language_info": {
   "codemirror_mode": {
    "name": "ipython",
    "version": 3
   },
   "file_extension": ".py",
   "mimetype": "text/x-python",
   "name": "python",
   "nbconvert_exporter": "python",
   "pygments_lexer": "ipython3",
   "version": "3.9.7"
  }
 },
 "nbformat": 4,
 "nbformat_minor": 5
}
