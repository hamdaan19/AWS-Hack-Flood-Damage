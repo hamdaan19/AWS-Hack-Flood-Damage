{
 "cells": [
  {
   "cell_type": "code",
   "execution_count": 2,
   "id": "1c6a02b8-c393-4140-8444-5db1a17e14ff",
   "metadata": {},
   "outputs": [],
   "source": [
    "from keras.layers import Input, Lambda, Dense, Flatten\n",
    "from tensorflow.keras.applications import Xception\n",
    "from tensorflow import keras\n",
    "import tensorflow as tf\n",
    "import os\n",
    "from PIL import Image, ImageOps\n",
    "from tqdm import tqdm\n",
    "import numpy as np"
   ]
  },
  {
   "cell_type": "code",
   "execution_count": 3,
   "id": "b2a44637-543d-41b3-be52-75805898fa68",
   "metadata": {},
   "outputs": [],
   "source": [
    "X = Xception(\n",
    "    include_top=False,\n",
    "    weights=\"imagenet\",\n",
    "    input_shape=(128, 128, 3)\n",
    ")\n",
    "\n",
    "for layer in X.layers:\n",
    "    layer.trainable = False"
   ]
  },
  {
   "cell_type": "code",
   "execution_count": 4,
   "id": "d646dff1-99fd-4a54-9560-5a4620e58c79",
   "metadata": {},
   "outputs": [],
   "source": [
    "x = Flatten()(X.output)\n",
    "X_out = Dense(2, activation='softmax')(x)"
   ]
  },
  {
   "cell_type": "code",
   "execution_count": 5,
   "id": "4b74102b-f005-4d82-8de7-73547b14e564",
   "metadata": {},
   "outputs": [],
   "source": [
    "from keras.models import Model\n",
    "model = Model(inputs=X.input, outputs=X_out)\n",
    "#model.summary()"
   ]
  },
  {
   "cell_type": "code",
   "execution_count": 6,
   "id": "7b7ed098-9fda-4182-8a11-72e86ee5b510",
   "metadata": {},
   "outputs": [],
   "source": [
    "model.compile(\n",
    "    loss=\"categorical_crossentropy\",\n",
    "    optimizer=keras.optimizers.Adam(learning_rate=0.02),\n",
    "    metrics=['accuracy'],\n",
    ")"
   ]
  },
  {
   "cell_type": "code",
   "execution_count": 7,
   "id": "834a7676-162e-4d3d-8454-96009b9f1a72",
   "metadata": {},
   "outputs": [
    {
     "name": "stdout",
     "output_type": "stream",
     "text": [
      "Collecting from train_another/damage/\n"
     ]
    },
    {
     "name": "stderr",
     "output_type": "stream",
     "text": [
      "100%|██████████| 5000/5000 [00:05<00:00, 923.81it/s]\n"
     ]
    },
    {
     "name": "stdout",
     "output_type": "stream",
     "text": [
      "Collecting from train_another/no_damage/\n"
     ]
    },
    {
     "name": "stderr",
     "output_type": "stream",
     "text": [
      "100%|██████████| 5001/5001 [00:05<00:00, 924.91it/s]"
     ]
    },
    {
     "name": "stdout",
     "output_type": "stream",
     "text": [
      "Total number of samples is 10000\n"
     ]
    },
    {
     "name": "stderr",
     "output_type": "stream",
     "text": [
      "\n"
     ]
    }
   ],
   "source": [
    "# Collecting Train Data\n",
    "\n",
    "DATA_PATH = \"../../my-datasets/Hurricane_Damage/train_another/\"\n",
    "CATEGORIES = [\"damage\", \"no_damage\"]\n",
    "\n",
    "train_data_list = []\n",
    "\n",
    "for category in CATEGORIES:\n",
    "    dir_path = os.path.join(DATA_PATH, category)\n",
    "    img_list = os.listdir(dir_path)\n",
    "    class_num = CATEGORIES.index(category)\n",
    "    print(f\"Collecting from train_another/{category}/\")\n",
    "    for img_path in tqdm(img_list):\n",
    "        if img_path.startswith(\".ipynb_checkpoints\", 0, len(img_path)):\n",
    "            continue\n",
    "        img = Image.open(os.path.join(dir_path, img_path))\n",
    "        img_arr = np.array(img, dtype=int)\n",
    "        if img_arr.shape[-1] == 4:\n",
    "            img_arr = img_arr[...,:3]\n",
    "        if img_arr.shape != (128, 128, 3):\n",
    "            continue\n",
    "        train_data_list.append([img_arr, class_num])\n",
    "        \n",
    "print(f\"Total number of samples is {len(train_data_list)}\")"
   ]
  },
  {
   "cell_type": "code",
   "execution_count": 8,
   "id": "e37754b6-9ebf-4d60-870e-4d042bfabbf9",
   "metadata": {},
   "outputs": [
    {
     "name": "stdout",
     "output_type": "stream",
     "text": [
      "(10000, 128, 128, 3)\n",
      "(10000,)\n",
      "(10000, 2)\n"
     ]
    }
   ],
   "source": [
    "import random\n",
    "random.shuffle(train_data_list)\n",
    "\n",
    "X_train = []\n",
    "y_train = []\n",
    "\n",
    "for image, label in train_data_list:\n",
    "    X_train.append(image)\n",
    "    y_train.append(label)\n",
    "\n",
    "X_train = np.asarray(X_train)\n",
    "y_train = np.asarray(y_train)\n",
    "\n",
    "print(X_train.shape)\n",
    "print(y_train.shape)\n",
    "\n",
    "### Converting y into a one-hot vector ###\n",
    "shape = (y_train.size, y_train.max()+1)\n",
    "y_train_one_hot = np.zeros(shape)\n",
    "rows = np.arange(y_train.size)\n",
    "y_train_one_hot[rows, y_train] = 1\n",
    "\n",
    "print(y_train_one_hot.shape)"
   ]
  },
  {
   "cell_type": "code",
   "execution_count": 9,
   "id": "6cff12ff-4cff-4c96-b90a-4f32dc3d41ba",
   "metadata": {},
   "outputs": [
    {
     "name": "stdout",
     "output_type": "stream",
     "text": [
      "Collecting from test/damage/\n"
     ]
    },
    {
     "name": "stderr",
     "output_type": "stream",
     "text": [
      "100%|██████████| 1000/1000 [00:00<00:00, 1240.66it/s]\n"
     ]
    },
    {
     "name": "stdout",
     "output_type": "stream",
     "text": [
      "Collecting from test/no_damage/\n"
     ]
    },
    {
     "name": "stderr",
     "output_type": "stream",
     "text": [
      "100%|██████████| 1000/1000 [00:00<00:00, 1097.26it/s]"
     ]
    },
    {
     "name": "stdout",
     "output_type": "stream",
     "text": [
      "Total number of samples is 2000\n"
     ]
    },
    {
     "name": "stderr",
     "output_type": "stream",
     "text": [
      "\n"
     ]
    }
   ],
   "source": [
    "# Collecting Test Data\n",
    "\n",
    "DATA_PATH = \"../../my-datasets/Hurricane_Damage/test/\"\n",
    "CATEGORIES = [\"damage\", \"no_damage\"]\n",
    "\n",
    "test_data_list = []\n",
    "\n",
    "for category in CATEGORIES:\n",
    "    dir_path = os.path.join(DATA_PATH, category)\n",
    "    img_list = os.listdir(dir_path)\n",
    "    class_num = CATEGORIES.index(category)\n",
    "    print(f\"Collecting from test/{category}/\")\n",
    "    for img_path in tqdm(img_list):\n",
    "        img = Image.open(os.path.join(dir_path, img_path))\n",
    "        img_arr = np.array(img)\n",
    "        test_data_list.append([img_arr, class_num])\n",
    "        \n",
    "print(f\"Total number of samples is {len(test_data_list)}\")"
   ]
  },
  {
   "cell_type": "code",
   "execution_count": 10,
   "id": "95ad7259-0d44-4925-8e90-5c1f88249bb2",
   "metadata": {},
   "outputs": [
    {
     "name": "stdout",
     "output_type": "stream",
     "text": [
      "(2000, 128, 128, 3)\n",
      "2000\n"
     ]
    }
   ],
   "source": [
    "import random\n",
    "random.Random(30).shuffle(test_data_list)\n",
    "\n",
    "X_test = []\n",
    "y_test = []\n",
    "\n",
    "for image, label in test_data_list:\n",
    "    X_test.append(image)\n",
    "    y_test.append(label)\n",
    "\n",
    "X_test = np.asarray(X_test)\n",
    "y_test = np.asarray(y_test)\n",
    "\n",
    "print(X_test.shape)\n",
    "print(y_test.size)\n",
    "\n",
    "### Converting y_test into a one-hot vector ###\n",
    "shape = (y_test.size, y_test.max()+1)\n",
    "y_test_one_hot = np.zeros(shape)\n",
    "rows = np.arange(y_test.size)\n",
    "y_test_one_hot[rows, y_test] = 1"
   ]
  },
  {
   "cell_type": "code",
   "execution_count": null,
   "id": "8f237853-0de2-4d86-80dc-911c5bec9e4a",
   "metadata": {},
   "outputs": [
    {
     "name": "stderr",
     "output_type": "stream",
     "text": [
      "2022-02-04 07:02:19.763562: W tensorflow/core/framework/cpu_allocator_impl.cc:82] Allocation of 3932160000 exceeds 10% of free system memory.\n",
      "2022-02-04 07:02:23.529415: W tensorflow/core/framework/cpu_allocator_impl.cc:82] Allocation of 3932160000 exceeds 10% of free system memory.\n"
     ]
    },
    {
     "name": "stdout",
     "output_type": "stream",
     "text": [
      "625/625 [==============================] - 26s 29ms/step - loss: 75.6340 - accuracy: 0.8947 - val_loss: 237.5973 - val_accuracy: 0.8045\n"
     ]
    }
   ],
   "source": [
    "from keras.callbacks import ModelCheckpoint\n",
    "\n",
    "checkpoint_path = \"archive/Xception_model/Xception_damage_classification.ckpt\"\n",
    "callbacks_list = [\n",
    "    ModelCheckpoint(\n",
    "        filepath=checkpoint_path,\n",
    "        save_best_only=True,\n",
    "        save_weights_only=True\n",
    "    ),\n",
    "]\n",
    "\n",
    "# This line below must be commented when running this cell for the first time\n",
    "model.load_weights(checkpoint_path)\n",
    "\n",
    "model_history = model.fit(\n",
    "    x=X_train,\n",
    "    y=y_train_one_hot,\n",
    "    validation_data=(X_test, y_test_one_hot),\n",
    "    batch_size=16,\n",
    "    epochs=1,\n",
    "    verbose=1,\n",
    "    callbacks=callbacks_list\n",
    ") "
   ]
  },
  {
   "cell_type": "code",
   "execution_count": 18,
   "id": "869e28a6-bca6-47e8-94c4-ba83d4259c71",
   "metadata": {},
   "outputs": [
    {
     "data": {
      "image/png": "[encoded data removed]",
      "text/plain": [
       "<Figure size 432x288 with 1 Axes>"
      ]
     },
     "metadata": {
      "needs_background": "light"
     },
     "output_type": "display_data"
    },
    {
     "data": {
      "image/png": "[encoded data removed]",
      "text/plain": [
       "<Figure size 432x288 with 1 Axes>"
      ]
     },
     "metadata": {
      "needs_background": "light"
     },
     "output_type": "display_data"
    }
   ],
   "source": [
    "import matplotlib.pyplot as plt\n",
    "import numpy as np\n",
    "\n",
    "train_loss = np.array(model_history.history['loss'])\n",
    "\n",
    "val_loss = np.array(model_history.history['val_loss'])\n",
    "\n",
    "train_acc = np.array(model_history.history['accuracy'])\n",
    "\n",
    "val_acc = np.array(model_history.history['val_accuracy'])\n",
    "\n",
    "epochs = np.arange(1, train_acc.size+1)\n",
    "\n",
    "plt.plot(epochs, train_loss, 'r',)\n",
    "plt.show()\n",
    "plt.plot(epochs, train_acc, 'r',)\n",
    "plt.show()"
   ]
  },
  {
   "cell_type": "code",
   "execution_count": null,
   "id": "775c02f7-f6f3-42f2-bbc9-52c2ed00dab2",
   "metadata": {},
   "outputs": [],
   "source": [
    "checkpoint_path = \"archive/Xception_model/Xception_damage_classification.ckpt\"\n",
    "\n",
    "X = Xception(\n",
    "    include_top=False,\n",
    "    weights=\"imagenet\",\n",
    "    input_shape=(128, 128, 3)\n",
    ")\n",
    "\n",
    "x = Flatten()(X.output)\n",
    "X_out = Dense(2, activation='softmax')(x)\n",
    "new_model = Model(inputs=X.input, outputs=X_out)\n",
    "\n",
    "new_model.load_weights(checkpoint_path)"
   ]
  },
  {
   "cell_type": "code",
   "execution_count": null,
   "id": "7e1b3b33-a62c-4385-b0cc-e57b8fcb2a12",
   "metadata": {},
   "outputs": [],
   "source": [
    "path = \"../../my-datasets/Hurricane_Damage/test/damage/-93.65936500000001_30.138793.jpeg\"\n",
    "test_img = Image.open(path)\n",
    "test_arr = np.asarray(test_img)\n",
    "test_arr = np.expand_dims(test_arr, axis=0) \n",
    "pred = new_model.predict(x=test_arr)\n",
    "print(pred)\n",
    "test_img"
   ]
  },
  {
   "cell_type": "code",
   "execution_count": null,
   "id": "2966beea-678d-4547-bba8-e40c9d00d75c",
   "metadata": {},
   "outputs": [],
   "source": [
    "pred_ = np.argmax(pred, axis=1)\n",
    "if(pred_ == 0):\n",
    "    print(\"Hello\")"
   ]
  }
 ],
 "metadata": {
  "kernelspec": {
   "display_name": "default:Python",
   "language": "python",
   "name": "conda-env-default-py"
  },
  "language_info": {
   "codemirror_mode": {
    "name": "ipython",
    "version": 3
   },
   "file_extension": ".py",
   "mimetype": "text/x-python",
   "name": "python",
   "nbconvert_exporter": "python",
   "pygments_lexer": "ipython3",
   "version": "3.9.7"
  }
 },
 "nbformat": 4,
 "nbformat_minor": 5
}
