{
 "cells": [
  {
   "cell_type": "code",
   "execution_count": null,
   "id": "36c286b2-24d0-4b58-b75a-688124ab0b29",
   "metadata": {},
   "outputs": [],
   "source": [
    "%pip install tensorflow\n",
    "%pip install keras\n",
    "%pip install matplotlib\n",
    "%pip install pillow\n",
    "%pip install tqdm"
   ]
  },
  {
   "cell_type": "code",
   "execution_count": 3,
   "id": "4296356c-8099-4e68-ae62-7e2943e2bc6b",
   "metadata": {},
   "outputs": [],
   "source": [
    "from keras.layers import Input, Lambda, Dense, Flatten\n",
    "from keras.models import Model\n",
    "from keras.applications.vgg16 import VGG16\n",
    "from keras.applications.vgg16 import preprocess_input\n",
    "from keras.preprocessing import image\n",
    "from keras.preprocessing.image import ImageDataGenerator\n",
    "from keras.models import Sequential\n",
    "from PIL import Image, ImageFile\n",
    "import numpy as np\n",
    "from glob import glob\n",
    "import matplotlib.pyplot as plt\n",
    "import os\n",
    "from tqdm import tqdm"
   ]
  },
  {
   "cell_type": "code",
   "execution_count": 4,
   "id": "73bab1ba-3143-44c8-bd16-d744f75b0f4d",
   "metadata": {},
   "outputs": [],
   "source": [
    "IMAGE_SIZE = [300, 400]\n",
    "vgg = VGG16(input_shape=IMAGE_SIZE + [3], weights='imagenet', include_top=False)\n",
    "\n",
    "for layer in vgg.layers:\n",
    "    layer.trainable = False"
   ]
  },
  {
   "cell_type": "code",
   "execution_count": 5,
   "id": "27be08f0-f0d6-4516-a3b7-961f221b7ce0",
   "metadata": {},
   "outputs": [
    {
     "name": "stdout",
     "output_type": "stream",
     "text": [
      "Model: \"model\"\n",
      "_________________________________________________________________\n",
      " Layer (type)                Output Shape              Param #   \n",
      "=================================================================\n",
      " input_1 (InputLayer)        [(None, 300, 400, 3)]     0         \n",
      "                                                                 \n",
      " block1_conv1 (Conv2D)       (None, 300, 400, 64)      1792      \n",
      "                                                                 \n",
      " block1_conv2 (Conv2D)       (None, 300, 400, 64)      36928     \n",
      "                                                                 \n",
      " block1_pool (MaxPooling2D)  (None, 150, 200, 64)      0         \n",
      "                                                                 \n",
      " block2_conv1 (Conv2D)       (None, 150, 200, 128)     73856     \n",
      "                                                                 \n",
      " block2_conv2 (Conv2D)       (None, 150, 200, 128)     147584    \n",
      "                                                                 \n",
      " block2_pool (MaxPooling2D)  (None, 75, 100, 128)      0         \n",
      "                                                                 \n",
      " block3_conv1 (Conv2D)       (None, 75, 100, 256)      295168    \n",
      "                                                                 \n",
      " block3_conv2 (Conv2D)       (None, 75, 100, 256)      590080    \n",
      "                                                                 \n",
      " block3_conv3 (Conv2D)       (None, 75, 100, 256)      590080    \n",
      "                                                                 \n",
      " block3_pool (MaxPooling2D)  (None, 37, 50, 256)       0         \n",
      "                                                                 \n",
      " block4_conv1 (Conv2D)       (None, 37, 50, 512)       1180160   \n",
      "                                                                 \n",
      " block4_conv2 (Conv2D)       (None, 37, 50, 512)       2359808   \n",
      "                                                                 \n",
      " block4_conv3 (Conv2D)       (None, 37, 50, 512)       2359808   \n",
      "                                                                 \n",
      " block4_pool (MaxPooling2D)  (None, 18, 25, 512)       0         \n",
      "                                                                 \n",
      " block5_conv1 (Conv2D)       (None, 18, 25, 512)       2359808   \n",
      "                                                                 \n",
      " block5_conv2 (Conv2D)       (None, 18, 25, 512)       2359808   \n",
      "                                                                 \n",
      " block5_conv3 (Conv2D)       (None, 18, 25, 512)       2359808   \n",
      "                                                                 \n",
      " block5_pool (MaxPooling2D)  (None, 9, 12, 512)        0         \n",
      "                                                                 \n",
      " flatten (Flatten)           (None, 55296)             0         \n",
      "                                                                 \n",
      " dense (Dense)               (None, 2)                 110594    \n",
      "                                                                 \n",
      "=================================================================\n",
      "Total params: 14,825,282\n",
      "Trainable params: 110,594\n",
      "Non-trainable params: 14,714,688\n",
      "_________________________________________________________________\n"
     ]
    }
   ],
   "source": [
    "x = Flatten()(vgg.output)\n",
    "preds = Dense(2, activation='softmax')(x)\n",
    "\n",
    "model = Model(inputs=vgg.input, outputs=preds)\n",
    "model.summary()"
   ]
  },
  {
   "cell_type": "code",
   "execution_count": 6,
   "id": "224f199a-037d-4198-9080-caccf0636ba0",
   "metadata": {},
   "outputs": [],
   "source": [
    "model.compile(\n",
    "    loss=\"sparse_categorical_crossentropy\",\n",
    "    optimizer=\"adam\",\n",
    "    metrics=['accuracy'],\n",
    ")"
   ]
  },
  {
   "cell_type": "code",
   "execution_count": 5,
   "id": "68eddd92-da33-422c-9d26-768c695f438a",
   "metadata": {},
   "outputs": [
    {
     "name": "stderr",
     "output_type": "stream",
     "text": [
      "100%|██████████| 51/51 [00:12<00:00,  3.98it/s]\n",
      "100%|██████████| 348/348 [01:09<00:00,  5.01it/s]"
     ]
    },
    {
     "name": "stdout",
     "output_type": "stream",
     "text": [
      "[Errno 21] Is a directory: '../../my-datasets/FloodNet Challenge @ EARTHVISION 2021 - Track 1/Train/Classification/Non-Flooded/.ipynb_checkpoints'\n"
     ]
    },
    {
     "name": "stderr",
     "output_type": "stream",
     "text": [
      "\n"
     ]
    }
   ],
   "source": [
    "ImageFile.LOAD_TRUNCATED_IMAGES = True\n",
    "TRAIN_DATA_PATH = \"../../my-datasets/FloodNet Challenge @ EARTHVISION 2021 - Track 1/Train/Classification\"\n",
    "CATEGORIES = [\"Flooded\", \"Non-Flooded\"]\n",
    "train_data_list = []\n",
    "\n",
    "for category in CATEGORIES:\n",
    "    path = os.path.join(TRAIN_DATA_PATH, category)\n",
    "    class_num = CATEGORIES.index(category)\n",
    "    for img_path in tqdm(os.listdir(path)):\n",
    "        try:\n",
    "            img = Image.open(os.path.join(path, img_path))\n",
    "            img = np.array(img.resize((400, 300)))\n",
    "            train_data_list.append([img, class_num])\n",
    "        except Exception as e:\n",
    "            print(e)"
   ]
  },
  {
   "cell_type": "code",
   "execution_count": 6,
   "id": "93349148-4503-401f-bc58-d92d69aab911",
   "metadata": {},
   "outputs": [],
   "source": [
    "import random\n",
    "random.shuffle(train_data_list)\n",
    "\n",
    "X = []\n",
    "y = []\n",
    "\n",
    "for image, label in train_data_list:\n",
    "    X.append(image)\n",
    "    y.append(label)\n",
    "\n",
    "X = np.array(X).reshape(-1, 300, 400, 3)\n",
    "y = np.array(y)\n",
    "\n",
    "#np.save(\"X_images\", X, allow_pickle=True)\n",
    "#np.save(\"y_labels\", y, allow_pickle=True)"
   ]
  },
  {
   "cell_type": "code",
   "execution_count": 7,
   "id": "cbbc29fc-a3ad-41c0-8790-1d65f8ccb382",
   "metadata": {},
   "outputs": [
    {
     "name": "stdout",
     "output_type": "stream",
     "text": [
      "Epoch 1/3\n",
      "50/50 [==============================] - 15s 171ms/step - loss: 4.2575 - accuracy: 0.9146\n",
      "Epoch 2/3\n",
      "50/50 [==============================] - 5s 109ms/step - loss: 0.0148 - accuracy: 0.9975\n",
      "Epoch 3/3\n",
      "50/50 [==============================] - 5s 109ms/step - loss: 0.0233 - accuracy: 0.9975\n"
     ]
    },
    {
     "data": {
      "text/plain": [
       "<keras.callbacks.History at 0x7ff080587d30>"
      ]
     },
     "execution_count": 7,
     "metadata": {},
     "output_type": "execute_result"
    }
   ],
   "source": [
    "X = np.load(\"X_images.npy\")\n",
    "y = np.load(\"y_labels.npy\")\n",
    "\n",
    "model.fit(\n",
    "    x=X,\n",
    "    y=y,\n",
    "    batch_size=8,\n",
    "    epochs=3,\n",
    "    verbose=1,\n",
    ") "
   ]
  },
  {
   "cell_type": "code",
   "execution_count": 8,
   "id": "60ab3207-451f-4e64-869a-86e394d3b095",
   "metadata": {},
   "outputs": [
    {
     "name": "stdout",
     "output_type": "stream",
     "text": [
      "25/25 [==============================] - 16s 407ms/step - loss: 0.0000e+00 - accuracy: 1.0000\n"
     ]
    },
    {
     "data": {
      "text/plain": [
       "[0.0, 1.0]"
      ]
     },
     "execution_count": 8,
     "metadata": {},
     "output_type": "execute_result"
    }
   ],
   "source": [
    "model.evaluate(x=X, y=y, batch_size=16)"
   ]
  },
  {
   "cell_type": "code",
   "execution_count": 20,
   "id": "e5b6ef4c-e0c9-4d6e-8597-a3e96883228d",
   "metadata": {},
   "outputs": [
    {
     "name": "stdout",
     "output_type": "stream",
     "text": [
      "Accuracy: 100.0%\n"
     ]
    }
   ],
   "source": [
    "preds = model.predict(x=X)\n",
    "preds_ = np.argmax(preds, axis=1)\n",
    "\n",
    "total = 0\n",
    "correct = 0\n",
    "\n",
    "for pred, truth in zip(preds_, y):\n",
    "    if(pred == truth):\n",
    "        correct += 1\n",
    "    total += 1\n",
    "    \n",
    "print(f\"Accuracy: {(correct/total)*100}%\")"
   ]
  }
 ],
 "metadata": {
  "kernelspec": {
   "display_name": "default:Python",
   "language": "python",
   "name": "conda-env-default-py"
  },
  "language_info": {
   "codemirror_mode": {
    "name": "ipython",
    "version": 3
   },
   "file_extension": ".py",
   "mimetype": "text/x-python",
   "name": "python",
   "nbconvert_exporter": "python",
   "pygments_lexer": "ipython3",
   "version": "3.9.7"
  }
 },
 "nbformat": 4,
 "nbformat_minor": 5
}
