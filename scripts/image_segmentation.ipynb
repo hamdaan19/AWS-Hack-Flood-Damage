{
 "cells": [
  {
   "cell_type": "code",
   "execution_count": 1,
   "id": "b2c7fd9a-38cf-4adc-901a-dfdc63f53661",
   "metadata": {},
   "outputs": [],
   "source": [
    "### Loading IMAGE and MASK data into python lists ###\n",
    "\n",
    "import os\n",
    "target_dir = \"/home/studio-lab-user/my-datasets/FloodNet Challenge @ EARTHVISION 2021 - Track 1/Train/Labeled\"\n",
    "image_dir = \"/home/studio-lab-user/my-datasets/FloodNet Challenge @ EARTHVISION 2021 - Track 1/Train/Classification\"\n",
    "CATEGORIES = [\"Flooded\", \"Non-Flooded\"]\n",
    "\n",
    "mask_paths = sorted(\n",
    "    [\n",
    "        os.path.join(target_dir, category, \"mask\", mask_name)\n",
    "        for category in CATEGORIES\n",
    "        for mask_name in os.listdir(os.path.join(target_dir, category, \"mask\"))\n",
    "        if mask_name.endswith(\".png\")\n",
    "    ]\n",
    ")\n",
    "\n",
    "image_paths = []\n",
    "for path in mask_paths:\n",
    "    if(path.find(\"Non-Flooded\") != -1): # Check if \"Non-FLooded\" is present in path\n",
    "        temp = target_dir + \"/\" + CATEGORIES[1] + \"/mask/\"\n",
    "        im_path = path[len(temp):-8]+\".jpg\"\n",
    "        full_path = os.path.join(image_dir, CATEGORIES[1], im_path)\n",
    "    else: # Otherwise \n",
    "        temp = target_dir + \"/\" + CATEGORIES[0] + \"/mask/\"\n",
    "        im_path = path[len(temp):-8] + \".jpg\"\n",
    "        full_path = os.path.join(image_dir, CATEGORIES[0], im_path)             \n",
    "    image_paths.append(full_path)"
   ]
  },
  {
   "cell_type": "code",
   "execution_count": 2,
   "id": "a68c75c6-7c29-4b6f-bf2f-827a8684937e",
   "metadata": {},
   "outputs": [],
   "source": [
    "from tensorflow import keras\n",
    "import numpy as np\n",
    "from tensorflow.keras.preprocessing.image import load_img\n",
    "\n",
    "'''\n",
    "Helper class to load data in batches. Uses keras.utils.Sequence. \n",
    "Refer https://www.tensorflow.org/api_docs/python/tf/keras/utils/Sequence\n",
    "'''\n",
    "\n",
    "class FloodNetDataLoader(keras.utils.Sequence):\n",
    "    def __init__(self, batch_size, img_size, image_paths, mask_paths, img_channels=3):\n",
    "        self.batch_size = batch_size\n",
    "        self.img_size = img_size\n",
    "        self.img_channels = img_channels\n",
    "        self.image_paths = image_paths\n",
    "        self.mask_paths = mask_paths\n",
    "    \n",
    "    def __len__(self, ):\n",
    "        return len(self.image_paths)//self.batch_size\n",
    "    \n",
    "    def __getitem__(self, idx):\n",
    "        i = idx * self.batch_size\n",
    "        batch_image_paths = self.image_paths[i:i+self.batch_size]\n",
    "        batch_mask_paths = self.mask_paths[i:i+self.batch_size]\n",
    "        \n",
    "        X = np.zeros((self.batch_size,) + self.img_size + (self.img_channels,), dtype=\"float32\")\n",
    "        for n, path in enumerate(batch_image_paths):\n",
    "            img = load_img(path=path, target_size=self.img_size)\n",
    "            X[n] = img\n",
    "        \n",
    "        y = np.zeros((self.batch_size,) + self.img_size + (1,), dtype=\"uint8\")\n",
    "        for n, path in enumerate(batch_mask_paths):\n",
    "            mask = load_img(path=path, target_size=self.img_size, color_mode=\"grayscale\")\n",
    "            y[n] = np.expand_dims(mask, axis=2) # converts (height, width) -> (height, width, 1) to add one channel as grayscale\n",
    "            \n",
    "        return X, y"
   ]
  },
  {
   "cell_type": "code",
   "execution_count": 3,
   "id": "5846ceee-cfef-4512-b538-5b8555fbb2df",
   "metadata": {},
   "outputs": [],
   "source": [
    "### Spliting data into Train set and Validation set ###\n",
    "\n",
    "import random \n",
    "\n",
    "random.Random(454).shuffle(image_paths)\n",
    "random.Random(454).shuffle(mask_paths)\n",
    "\n",
    "val_samples = 65 # number of data samples being set aside for validation\n",
    "\n",
    "train_set_images = image_paths[:-val_samples] \n",
    "train_set_masks = mask_paths[:-val_samples]\n",
    "test_set_images = image_paths[-val_samples:]\n",
    "test_set_masks = mask_paths[-val_samples:]\n",
    "\n",
    "### Loading the data ###\n",
    "\n",
    "IMG_SIZE = (240, 320)\n",
    "train_set = FloodNetDataLoader(\n",
    "    batch_size=8, img_size=IMG_SIZE, image_paths=train_set_images, mask_paths=train_set_masks\n",
    ")\n",
    "test_set = FloodNetDataLoader(\n",
    "    batch_size=8, img_size=IMG_SIZE, image_paths=test_set_images, mask_paths=test_set_masks\n",
    ")"
   ]
  },
  {
   "cell_type": "code",
   "execution_count": null,
   "id": "88bcd985-cfe5-4a78-be3e-f634981dce18",
   "metadata": {},
   "outputs": [],
   "source": [
    "from unet_xception_model import get_model\n",
    "\n",
    "IMG_SIZE = (240, 320)\n",
    "\n",
    "# Free up RAM in case the model definition cells were run multiple times\n",
    "keras.backend.clear_session() \n",
    "\n",
    "my_model = get_model(img_size=IMG_SIZE, in_channels=3, classes=10)\n",
    "my_model.summary()"
   ]
  },
  {
   "cell_type": "code",
   "execution_count": null,
   "id": "5f182789-38b8-410e-8b7c-904a31f9ec96",
   "metadata": {},
   "outputs": [],
   "source": [
    "my_model.compile(optimizer=\"adam\", loss=\"sparse_categorical_crossentropy\")"
   ]
  },
  {
   "cell_type": "code",
   "execution_count": null,
   "id": "169c1953-2dda-41fc-9f42-e3b5f35e36b4",
   "metadata": {},
   "outputs": [],
   "source": [
    "from keras.callbacks import ModelCheckpoint\n",
    "\n",
    "checkpoint_path = \"archive/UNET_X/UNET_X_floodnet.ckpt\"\n",
    "\n",
    "callbacks_list = [\n",
    "    ModelCheckpoint(\n",
    "        filepath=checkpoint_path,\n",
    "        save_best_only=True,\n",
    "        save_weights_only=True\n",
    "    ),\n",
    "]\n",
    "\n",
    "my_model.load_weights(checkpoint_path)\n",
    "\n",
    "my_model.fit(\n",
    "    x=train_set,\n",
    "    epochs=1,\n",
    "    validation_data=test_set,\n",
    "    callbacks=callbacks_list\n",
    ")"
   ]
  },
  {
   "cell_type": "code",
   "execution_count": 4,
   "id": "cd2f6308-2632-4faa-bcb5-119ac3e7bfec",
   "metadata": {},
   "outputs": [
    {
     "data": {
      "text/plain": [
       "<tensorflow.python.training.tracking.util.CheckpointLoadStatus at 0x7f775019c1c0>"
      ]
     },
     "execution_count": 4,
     "metadata": {},
     "output_type": "execute_result"
    }
   ],
   "source": [
    "from unet_xception_model import get_model\n",
    "new_model = get_model(img_size=(240, 320), in_channels=3, classes=10)\n",
    "\n",
    "checkpoint_path = \"archive/UNET_X/UNET_X_floodnet.ckpt\"\n",
    "new_model.load_weights(checkpoint_path)"
   ]
  },
  {
   "cell_type": "code",
   "execution_count": 5,
   "id": "538d9a8d-72f9-4b82-b518-51b4f4c437ac",
   "metadata": {},
   "outputs": [],
   "source": [
    "'''\n",
    "Model.predict can also take in a numpy array of dimentions (batch_size, height, width, in_channels)\n",
    "'''\n",
    "preds = new_model.predict(test_set)"
   ]
  },
  {
   "cell_type": "code",
   "execution_count": 7,
   "id": "3b9d0b84-3f14-481b-b311-b3824faca71b",
   "metadata": {},
   "outputs": [
    {
     "data": {
      "image/png": "[encoded data removed]",
      "text/plain": [
       "<PIL.Image.Image image mode=L size=320x240 at 0x7F41EC590C70>"
      ]
     },
     "metadata": {},
     "output_type": "display_data"
    },
    {
     "name": "stdout",
     "output_type": "stream",
     "text": [
      "\n"
     ]
    }
   ],
   "source": [
    "### display mask predictions ###\n",
    "from Utils import display_mask_predictions\n",
    "display_mask_predictions(preds[10])\n",
    "print(\"\")"
   ]
  },
  {
   "cell_type": "code",
   "execution_count": 7,
   "id": "10ec3f9d-c951-4b79-be79-ef71bd92c0c4",
   "metadata": {},
   "outputs": [
    {
     "data": {
      "image/png": "[encoded data removed]",
      "text/plain": [
       "<PIL.Image.Image image mode=L size=320x240 at 0x7F1D407AAFA0>"
      ]
     },
     "metadata": {},
     "output_type": "display_data"
    },
    {
     "name": "stdout",
     "output_type": "stream",
     "text": [
      "\n"
     ]
    }
   ],
   "source": [
    "### display true masks ###\n",
    "from Utils import display_mask\n",
    "from tensorflow.keras.utils import load_img\n",
    "\n",
    "img_arr = load_img(test_set_masks[10], color_mode=\"grayscale\", target_size=(240, 320))\n",
    "img_arr = np.array(img_arr)\n",
    "\n",
    "display_mask(img_arr)\n",
    "print(\"\")"
   ]
  },
  {
   "cell_type": "code",
   "execution_count": 7,
   "id": "3b2d3809-37b3-43e1-8008-1e19ab559ed9",
   "metadata": {},
   "outputs": [
    {
     "name": "stderr",
     "output_type": "stream",
     "text": [
      "100%|██████████| 240/240 [00:00<00:00, 1490.21it/s]\n"
     ]
    },
    {
     "data": {
      "image/png": "[encoded data removed]",
      "text/plain": [
       "<PIL.Image.Image image mode=RGB size=320x240 at 0x7F5E30060E20>"
      ]
     },
     "metadata": {},
     "output_type": "display_data"
    },
    {
     "data": {
      "image/png": "[encoded data removed]",
      "text/plain": [
       "<PIL.Image.Image image mode=RGB size=320x240 at 0x7F5E40047550>"
      ]
     },
     "metadata": {},
     "output_type": "display_data"
    }
   ],
   "source": [
    "### display highlighted labels ###\n",
    "from Utils import highlight_labels\n",
    "im = highlight_labels(preds[10], 5, save_img=True)  \n",
    "im.show()\n",
    "\n",
    "### Smooth edges of the image ###\n",
    "from PIL import ImageFilter\n",
    "image = im.filter(ImageFilter.ModeFilter(size=10))\n",
    "image.show()"
   ]
  },
  {
   "cell_type": "code",
   "execution_count": 12,
   "id": "cfc98ba7-6eb0-4503-a606-75df3bd9b351",
   "metadata": {},
   "outputs": [
    {
     "name": "stdout",
     "output_type": "stream",
     "text": [
      "(240, 320, 3)\n"
     ]
    },
    {
     "data": {
      "image/png": "[encoded data removed]",
      "text/plain": [
       "<PIL.Image.Image image mode=L size=320x240 at 0x7F76E02CDEE0>"
      ]
     },
     "metadata": {},
     "output_type": "display_data"
    },
    {
     "name": "stderr",
     "output_type": "stream",
     "text": [
      "100%|██████████| 240/240 [00:00<00:00, 1527.95it/s]\n"
     ]
    },
    {
     "data": {
      "image/png": "[encoded data removed]",
      "text/plain": [
       "<PIL.Image.Image image mode=RGB size=320x240 at 0x7F76E02CD0A0>"
      ]
     },
     "execution_count": 12,
     "metadata": {},
     "output_type": "execute_result"
    }
   ],
   "source": [
    "### display masks and highlighted labels from path ###\n",
    "from tensorflow.keras.utils import load_img\n",
    "path = \"12.jpg\"\n",
    "test_img = load_img(path, target_size=(240, 320))\n",
    "test_arr = np.array(test_img)\n",
    "print(test_arr.shape)\n",
    "test_arr = np.expand_dims(test_arr, axis=0)\n",
    "\n",
    "pred_mask = new_model.predict(x=test_arr)\n",
    "pred_mask = np.reshape(pred_mask, (240, 320, -1))\n",
    "\n",
    "from Utils import display_mask_predictions, highlight_labels \n",
    "display_mask_predictions(pred_mask)\n",
    "highlight_labels(pred_mask, 4)"
   ]
  }
 ],
 "metadata": {
  "kernelspec": {
   "display_name": "default:Python",
   "language": "python",
   "name": "conda-env-default-py"
  },
  "language_info": {
   "codemirror_mode": {
    "name": "ipython",
    "version": 3
   },
   "file_extension": ".py",
   "mimetype": "text/x-python",
   "name": "python",
   "nbconvert_exporter": "python",
   "pygments_lexer": "ipython3",
   "version": "3.9.7"
  }
 },
 "nbformat": 4,
 "nbformat_minor": 5
}
