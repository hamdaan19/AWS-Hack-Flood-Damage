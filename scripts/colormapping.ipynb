{
 "cells": [
  {
   "cell_type": "code",
   "execution_count": null,
   "metadata": {},
   "outputs": [],
   "source": [
    "import os\n",
    "import keras\n",
    "import numpy as np\n",
    "from PIL import image"
   ]
  },
  {
   "cell_type": "code",
   "execution_count": null,
   "metadata": {},
   "outputs": [],
   "source": [
    "my_model = keras.models.load_model(\"vgg_classification_model\")\n",
    "\n",
    "dir = 'outputdir/'\n",
    "for image in os.listdir(dir):\n",
    "    image_np = np.array(image)\n",
    "    prediction = my_model.predict(x=image_np) # Image size = (-1, 300, 400, 3)-> no. of images, height, weight, channels\n",
    "\n",
    "    output = np.argmax(prediction, axis=1) # 1(Non-Flooded) or 0(Flooded)\n",
    "    if (output == 1):\n",
    "        print('NON-FLODDED')\n",
    "    else:\n",
    "        print('FLODDED')"
   ]
  }
 ],
 "metadata": {
  "language_info": {
   "name": "python"
  },
  "orig_nbformat": 4
 },
 "nbformat": 4,
 "nbformat_minor": 2
}
