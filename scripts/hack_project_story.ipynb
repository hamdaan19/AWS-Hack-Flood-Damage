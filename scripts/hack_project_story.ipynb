{
 "cells": [
  {
   "cell_type": "markdown",
   "id": "61173d80-2158-4eef-8129-864a6bb39f5b",
   "metadata": {},
   "source": [
    "## Abstract\n",
    "this is our abstract\n",
    "## Our Solution\n",
    "this is our solution\n",
    "## How we built it\n",
    "### Machine Learning Models\n",
    "### Datasets"
   ]
  },
  {
   "cell_type": "markdown",
   "id": "83caa7d5-d612-4d63-be35-b0800cc58ec0",
   "metadata": {},
   "source": [
    "## Challenges we ran into\n",
    "\n",
    "## Accomplishments that we're proud of\n",
    "\n",
    "## What we learned\n",
    "\n",
    "## What's next for Road connectivity during floods"
   ]
  }
 ],
 "metadata": {
  "kernelspec": {
   "display_name": "default:Python",
   "language": "python",
   "name": "conda-env-default-py"
  },
  "language_info": {
   "codemirror_mode": {
    "name": "ipython",
    "version": 3
   },
   "file_extension": ".py",
   "mimetype": "text/x-python",
   "name": "python",
   "nbconvert_exporter": "python",
   "pygments_lexer": "ipython3",
   "version": "3.9.7"
  }
 },
 "nbformat": 4,
 "nbformat_minor": 5
}
