{
 "cells": [
  {
   "cell_type": "markdown",
   "id": "61173d80-2158-4eef-8129-864a6bb39f5b",
   "metadata": {},
   "source": [
    "## Inspiration\n",
    "Emergency Response Teams (ERT) heavily rely on real-time information during calamities and disasters. Unmanned Aerial Vehicles (UAV) have recently gained popularity in their deployment for aerial surrveillance as it provides a real-time bird's eye perspective of the crisis to ERTs. However, aerial imagery can provide overwhelming amounts of information which can make it difficult for First Responders to judge/estimate the regions most affected by a calamities in a large area. Moreover, during floods caused by hurricanes/cyclones, when a portion of roads are inundated with water, it can be hard for ERTs to logistically manage the transportation of people and supplies and to plan safe routes to certain locations in a disaster affected area, with or without aerial imagery. Additionally, for ERTs to work and coordinate efficiently during a time of crisis, shared situational awareness and information is critical. In other words, one of the biggest things that hinder the cross-agency coordination of ERTs is the lack of standardized means of communication, information sharing and limited information itself. \n",
    "\n",
    "In order to address these pressing needs and to enhance the level of coordination of ERTs, we introduce Floodie which is an application that leverages aerial surveillance and helps response teams to work and communicate better thereby speeding up the recovery of a disaster affected area. The next section will focus on specific problems addressed by Floodie.   \n",
    "## What is Floodie\n",
    "Floodie is an application which uses Machine Learning techniques to leverage aerial imagery and produce useful information. This can be extremely beneficial to response teams to communicate better and function more efficiently. There are several ways in which disaster response teams can benefit from floodie. A few of the important ones are mentioned in the following secton.    \n",
    "\n",
    "## How we built it\n",
    "### Machine Learning Models\n",
    "### Datasets"
   ]
  },
  {
   "cell_type": "markdown",
   "id": "83caa7d5-d612-4d63-be35-b0800cc58ec0",
   "metadata": {},
   "source": [
    "## Challenges we ran into\n",
    "\n",
    "## Accomplishments that we're proud of\n",
    "\n",
    "## What we learned\n",
    "\n",
    "## What's next for Road connectivity during floods"
   ]
  }
 ],
 "metadata": {
  "kernelspec": {
   "display_name": "default:Python",
   "language": "python",
   "name": "conda-env-default-py"
  },
  "language_info": {
   "codemirror_mode": {
    "name": "ipython",
    "version": 3
   },
   "file_extension": ".py",
   "mimetype": "text/x-python",
   "name": "python",
   "nbconvert_exporter": "python",
   "pygments_lexer": "ipython3",
   "version": "3.9.7"
  }
 },
 "nbformat": 4,
 "nbformat_minor": 5
}
