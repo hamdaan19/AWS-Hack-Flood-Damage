{
 "cells": [
  {
   "cell_type": "markdown",
   "id": "61173d80-2158-4eef-8129-864a6bb39f5b",
   "metadata": {},
   "source": [
    "## Inspiration\n",
    "Emergency Response Teams (ERT) heavily rely on real-time information during calamities and disasters. Unmanned Aerial Vehicles (UAV) have recently gained popularity in their deployment for aerial surveillance as it provides a real-time bird's eye perspective of the crisis to ERTs. However, aerial imagery can provide overwhelming amounts of information which can make it difficult for First Responders to judge/estimate the regions most affected by a calamities in a large area. Moreover, during floods caused by hurricanes/cyclones, when a portion of roads are inundated with water, it can be hard for ERTs to logistically manage the transportation of people and supplies and to plan safe routes to certain locations in a disaster affected area, with or without aerial imagery. Additionally, for ERTs to work and coordinate efficiently during a time of crisis, shared situational awareness and information is critical. In other words, one of the biggest things that hinder the cross-agency coordination of ERTs is the lack of standardized means of communication, information sharing and limited information itself. \n",
    "\n",
    "In order to address these pressing needs and to enhance the level of coordination of ERTs, we introduce Floodie which is an application that leverages aerial surveillance and helps response teams to work and communicate better thereby speeding up the recovery of a disaster affected area. The next section will focus on specific problems addressed by Floodie.   \n",
    "## What is Floodie\n",
    "Floodie is an application which uses Machine Learning techniques to leverage aerial imagery and produce useful information. This can be extremely beneficial to response teams to communicate better and function more efficiently. There are several ways in which disaster response teams can benefit from floodie. A few of the important ones are mentioned in the following secton.    \n",
    "\n",
    "## How we built it\n",
    "### Machine Learning Models\n",
    "### Datasets"
   ]
  },
  {
   "cell_type": "markdown",
   "id": "83caa7d5-d612-4d63-be35-b0800cc58ec0",
   "metadata": {},
   "source": [
    "## Challenges we ran into\n",
    "The main challenge in this project is to identify the flooded region of the path/road in the pile of data obtained through the aerial imagery and isolate them from the available path to maneuver the Emergency Response Team(ERT). At first we couldn't develope very accurate model with only handlful numbers of pictures available in the dataset. During the development of building damage identifying module we ran into several problem with it's accuracy in prediction some of them are,\n",
    "- Since the dataset we used had only damaged/non-damaged buildings, we were not able to identify any other damages apart from buildings like roads,vegetation or agricultural land.\n",
    "- The images in the dataset also had little bluish tint over it which caused little bit trouble in distinguishing the flood damages appropriately   \n",
    "To reduce the inaccuracy of the model,\n",
    "- The model was trained with additional epochs to boost its accuracy by smaller margin\n",
    "- Instead of passing the whole image into the model,we divided the picture into smaller pieces of size 128px x 128px and tested the image and finally we combined every result together to provide useful information out of it.\n",
    "## Accomplishments that we're proud of\n",
    "After all the challenges and troubles that we faced during this project we were really happy and proud to be able to successfully create a working prototype which fulfilled our primary problem statement. And also we learned from our mistakes to correct it but we didn't quit inbetween the project which in itself showed us our perseverence in completing this challenging yet fun project that encourages us to take up challenging projects like these more and more.\n",
    "## What we learned\n",
    "\n",
    "## What's next for Road connectivity during floods\n",
    "Floodie was able to identify the road connectivity and building damages due to floods and cyclone but still there is more to it than simply identifying those things. As we know human beign could also be able to analyse and give the same inference by seeing an areial image after floods.\n",
    "But imagine the days when robots and unmaned rescue vehicles would be utilised for these tasks that's when this project could become very useful as it will be easier for the machines to read the connectivity of roads by color codes and which could be used to navigate them through those circumstances."
   ]
  },
  {
   "cell_type": "code",
   "execution_count": null,
   "id": "cae1b113-352a-4cd7-b794-1fbe0c0c717f",
   "metadata": {},
   "outputs": [],
   "source": []
  }
 ],
 "metadata": {
  "kernelspec": {
   "display_name": "default:Python",
   "language": "python",
   "name": "conda-env-default-py"
  },
  "language_info": {
   "codemirror_mode": {
    "name": "ipython",
    "version": 3
   },
   "file_extension": ".py",
   "mimetype": "text/x-python",
   "name": "python",
   "nbconvert_exporter": "python",
   "pygments_lexer": "ipython3",
   "version": "3.9.7"
  }
 },
 "nbformat": 4,
 "nbformat_minor": 5
}
